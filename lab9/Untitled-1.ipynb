{
 "cells": [
  {
   "cell_type": "code",
   "execution_count": 1,
   "id": "0f72b0fe",
   "metadata": {},
   "outputs": [
    {
     "name": "stdout",
     "output_type": "stream",
     "text": [
      "Лічильник: 4\n",
      "Список задач:\n",
      "['Пройти захист', 'Написати звіт', 'Пройти захист', 'Написати звіт', 'Task1']\n"
     ]
    },
    {
     "data": {
      "text/plain": [
       "0"
      ]
     },
     "execution_count": 1,
     "metadata": {},
     "output_type": "execute_result"
    }
   ],
   "source": [
    "import redis\n",
    "\n",
    "# Підключення до Redis (локально, порт 6379)\n",
    "r = redis.Redis(host='localhost', port=6379, decode_responses=True)\n",
    "\n",
    "# Збільшуємо лічильник\n",
    "r.incr('mycounter')\n",
    "print(\"Лічильник:\", r.get('mycounter'))\n",
    "\n",
    "# Додаємо задачі в список\n",
    "r.lpush('tasks', 'Написати звіт', 'Пройти захист')\n",
    "print(\"Список задач:\")\n",
    "print(r.lrange('tasks', 0, -1))\n",
    "\n",
    "# Публікуємо повідомлення (наприклад, у канал)\n",
    "r.publish('updates', 'Користувач виконав завдання!')\n"
   ]
  }
 ],
 "metadata": {
  "kernelspec": {
   "display_name": "Python 3",
   "language": "python",
   "name": "python3"
  },
  "language_info": {
   "codemirror_mode": {
    "name": "ipython",
    "version": 3
   },
   "file_extension": ".py",
   "mimetype": "text/x-python",
   "name": "python",
   "nbconvert_exporter": "python",
   "pygments_lexer": "ipython3",
   "version": "3.9.13"
  }
 },
 "nbformat": 4,
 "nbformat_minor": 5
}
