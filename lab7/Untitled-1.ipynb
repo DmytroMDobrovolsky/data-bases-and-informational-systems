{
 "cells": [
  {
   "cell_type": "code",
   "execution_count": 4,
   "id": "efb133bc",
   "metadata": {},
   "outputs": [
    {
     "name": "stdout",
     "output_type": "stream",
     "text": [
      " Успішно вставлено 100 000 документів у колекцію 'sales'.\n"
     ]
    }
   ],
   "source": [
    "from pymongo import MongoClient\n",
    "import random\n",
    "import datetime\n",
    "\n",
    "# Підключення до MongoDB\n",
    "client = MongoClient(\"mongodb://localhost:27017\")\n",
    "db = client[\"performance_test\"]\n",
    "collection = db[\"sales\"]\n",
    "\n",
    "# Категорії товарів\n",
    "categories = [\"Electronics\", \"Clothing\", \"Books\", \"Home\", \"Sports\"]\n",
    "\n",
    "# Генерація 100 000 документів\n",
    "documents = [\n",
    "    {\n",
    "        \"customer_id\": random.randint(1, 1000),\n",
    "        \"category\": random.choice(categories),\n",
    "        \"amount\": round(random.uniform(5, 500), 2),\n",
    "        \"timestamp\": datetime.datetime(2024, random.randint(1, 12), random.randint(1, 28))\n",
    "    }\n",
    "    for _ in range(100000)\n",
    "]\n",
    "\n",
    "# Вставка документів\n",
    "collection.insert_many(documents)\n",
    "print(\" Успішно вставлено 100 000 документів у колекцію 'sales'.\")\n"
   ]
  },
  {
   "cell_type": "code",
   "execution_count": 1,
   "id": "e617cf2b",
   "metadata": {},
   "outputs": [
    {
     "name": "stdout",
     "output_type": "stream",
     "text": [
      "Час виконання запиту без індексу: 0.169974 секунд\n"
     ]
    }
   ],
   "source": [
    "# query_no_index.py\n",
    "import time\n",
    "from pymongo import MongoClient\n",
    "\n",
    "client = MongoClient(\"mongodb://localhost:27017\")\n",
    "db = client[\"performance_test\"]\n",
    "collection = db[\"sales\"]\n",
    "\n",
    "start_time = time.time()\n",
    "\n",
    "# Виконання запиту без індексу\n",
    "results = list(collection.find({\"category\": \"Electronics\"}))\n",
    "\n",
    "end_time = time.time()\n",
    "\n",
    "print(f\"Час виконання запиту без індексу: {end_time - start_time:.6f} секунд\")\n"
   ]
  },
  {
   "cell_type": "code",
   "execution_count": 2,
   "id": "28fe6a0e",
   "metadata": {},
   "outputs": [
    {
     "name": "stdout",
     "output_type": "stream",
     "text": [
      "Індекс створено.\n"
     ]
    }
   ],
   "source": [
    "# create_index.py\n",
    "from pymongo import MongoClient\n",
    "\n",
    "client = MongoClient(\"mongodb://localhost:27017\")\n",
    "db = client[\"performance_test\"]\n",
    "collection = db[\"sales\"]\n",
    "\n",
    "# Створення індексу на полі \"category\"\n",
    "collection.create_index(\"category\")\n",
    "\n",
    "print(\"Індекс створено.\")\n"
   ]
  },
  {
   "cell_type": "code",
   "execution_count": 3,
   "id": "a938d8e7",
   "metadata": {},
   "outputs": [
    {
     "name": "stdout",
     "output_type": "stream",
     "text": [
      "Час виконання запиту з індексом: 0.119012 секунд\n"
     ]
    }
   ],
   "source": [
    "# query_with_index.py\n",
    "import time\n",
    "from pymongo import MongoClient\n",
    "\n",
    "client = MongoClient(\"mongodb://localhost:27017\")\n",
    "db = client[\"performance_test\"]\n",
    "collection = db[\"sales\"]\n",
    "\n",
    "start_time = time.time()\n",
    "\n",
    "# Виконання запиту з індексом\n",
    "results = list(collection.find({\"category\": \"Electronics\"}))\n",
    "\n",
    "end_time = time.time()\n",
    "\n",
    "print(f\"Час виконання запиту з індексом: {end_time - start_time:.6f} секунд\")\n"
   ]
  },
  {
   "cell_type": "code",
   "execution_count": 8,
   "id": "de534efc",
   "metadata": {},
   "outputs": [
    {
     "name": "stdout",
     "output_type": "stream",
     "text": [
      "Складений індекс створено.\n"
     ]
    }
   ],
   "source": [
    "# create_compound_index.py\n",
    "from pymongo import MongoClient\n",
    "\n",
    "client = MongoClient(\"mongodb://localhost:27017\")\n",
    "db = client[\"performance_test\"]\n",
    "collection = db[\"sales\"]\n",
    "\n",
    "# Створення складеного індексу на category і timestamp\n",
    "collection.create_index([(\"category\", 1), (\"timestamp\", -1)])\n",
    "\n",
    "print(\"Складений індекс створено.\")\n"
   ]
  }
 ],
 "metadata": {
  "kernelspec": {
   "display_name": "Python 3",
   "language": "python",
   "name": "python3"
  },
  "language_info": {
   "codemirror_mode": {
    "name": "ipython",
    "version": 3
   },
   "file_extension": ".py",
   "mimetype": "text/x-python",
   "name": "python",
   "nbconvert_exporter": "python",
   "pygments_lexer": "ipython3",
   "version": "3.9.13"
  }
 },
 "nbformat": 4,
 "nbformat_minor": 5
}
